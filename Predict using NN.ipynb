{
 "cells": [
  {
   "cell_type": "code",
   "execution_count": 1,
   "metadata": {},
   "outputs": [
    {
     "name": "stdout",
     "output_type": "stream",
     "text": [
      "2.0.0\n"
     ]
    }
   ],
   "source": [
    "import tensorflow as tf\n",
    "\n",
    "from tensorflow import keras\n",
    "from tensorflow.keras import layers\n",
    "\n",
    "print(tf.__version__)"
   ]
  },
  {
   "cell_type": "code",
   "execution_count": 2,
   "metadata": {},
   "outputs": [],
   "source": [
    "import pathlib\n",
    "\n",
    "import matplotlib.pyplot as plt\n",
    "import numpy as np\n",
    "import pandas as pd\n"
   ]
  },
  {
   "cell_type": "code",
   "execution_count": 3,
   "metadata": {},
   "outputs": [],
   "source": [
    "import tensorflow_docs as tfdocs\n",
    "import tensorflow_docs.plots\n",
    "import tensorflow_docs.modeling"
   ]
  },
  {
   "cell_type": "code",
   "execution_count": 4,
   "metadata": {},
   "outputs": [],
   "source": [
    "dummy = pd.read_csv('mileage_dummy.csv')"
   ]
  },
  {
   "cell_type": "code",
   "execution_count": 5,
   "metadata": {},
   "outputs": [],
   "source": [
    "dummy.drop(columns=['Unnamed: 0'],inplace = True)"
   ]
  },
  {
   "cell_type": "code",
   "execution_count": 6,
   "metadata": {},
   "outputs": [],
   "source": [
    "train = dummy.sample(frac=0.8,random_state=0)\n",
    "test = dummy.drop(train.index)"
   ]
  },
  {
   "cell_type": "code",
   "execution_count": 7,
   "metadata": {},
   "outputs": [],
   "source": [
    "X_train = train.iloc[:, 1:].values\n",
    "y_train = train.iloc[:, 0].values.reshape(-1,1)"
   ]
  },
  {
   "cell_type": "code",
   "execution_count": 8,
   "metadata": {},
   "outputs": [
    {
     "data": {
      "text/plain": [
       "array([[14. ],\n",
       "       [25. ],\n",
       "       [13. ],\n",
       "       [21. ],\n",
       "       [18. ],\n",
       "       [35. ],\n",
       "       [34.1],\n",
       "       [20. ],\n",
       "       [15. ],\n",
       "       [23.5],\n",
       "       [40.9],\n",
       "       [37.2],\n",
       "       [18. ],\n",
       "       [23. ],\n",
       "       [15.5],\n",
       "       [35.7],\n",
       "       [31. ],\n",
       "       [27. ],\n",
       "       [18. ],\n",
       "       [37.3],\n",
       "       [15.5],\n",
       "       [23. ],\n",
       "       [24. ],\n",
       "       [18. ],\n",
       "       [34.5],\n",
       "       [25.4],\n",
       "       [36.1],\n",
       "       [34. ],\n",
       "       [30. ],\n",
       "       [16. ],\n",
       "       [18.6],\n",
       "       [37. ],\n",
       "       [15. ],\n",
       "       [33.5],\n",
       "       [22.4],\n",
       "       [24. ],\n",
       "       [19. ],\n",
       "       [16.9],\n",
       "       [31.9],\n",
       "       [12. ],\n",
       "       [14. ],\n",
       "       [15. ],\n",
       "       [27.4],\n",
       "       [23.7],\n",
       "       [32. ],\n",
       "       [24. ],\n",
       "       [22.5],\n",
       "       [16.5],\n",
       "       [21. ],\n",
       "       [26. ],\n",
       "       [41.5],\n",
       "       [29. ],\n",
       "       [15. ],\n",
       "       [30. ],\n",
       "       [15. ],\n",
       "       [10. ],\n",
       "       [18. ],\n",
       "       [20.2],\n",
       "       [36. ],\n",
       "       [17. ],\n",
       "       [18. ],\n",
       "       [26.5],\n",
       "       [18. ],\n",
       "       [22. ],\n",
       "       [12. ],\n",
       "       [14. ],\n",
       "       [15. ],\n",
       "       [18. ],\n",
       "       [23. ],\n",
       "       [14. ],\n",
       "       [32.3],\n",
       "       [13. ],\n",
       "       [25. ],\n",
       "       [20. ],\n",
       "       [24. ],\n",
       "       [30.9],\n",
       "       [26. ],\n",
       "       [32. ],\n",
       "       [24.5],\n",
       "       [11. ],\n",
       "       [15. ],\n",
       "       [27. ],\n",
       "       [34.3],\n",
       "       [26. ],\n",
       "       [31.6],\n",
       "       [33.8],\n",
       "       [29. ],\n",
       "       [18.1],\n",
       "       [27.2],\n",
       "       [38. ],\n",
       "       [26. ],\n",
       "       [14. ],\n",
       "       [22. ],\n",
       "       [31. ],\n",
       "       [36.4],\n",
       "       [17.6],\n",
       "       [17.7],\n",
       "       [28. ],\n",
       "       [20.8],\n",
       "       [14. ],\n",
       "       [20.2],\n",
       "       [32.8],\n",
       "       [22.3],\n",
       "       [28. ],\n",
       "       [37. ],\n",
       "       [27. ],\n",
       "       [23.2],\n",
       "       [13. ],\n",
       "       [15. ],\n",
       "       [22. ],\n",
       "       [24. ],\n",
       "       [29. ],\n",
       "       [13. ],\n",
       "       [31.8],\n",
       "       [23. ],\n",
       "       [25.5],\n",
       "       [29.9],\n",
       "       [13. ],\n",
       "       [17.5],\n",
       "       [46.6],\n",
       "       [15.5],\n",
       "       [32.9],\n",
       "       [14. ],\n",
       "       [25. ],\n",
       "       [19.4],\n",
       "       [15. ],\n",
       "       [32.4],\n",
       "       [31.5],\n",
       "       [27. ],\n",
       "       [19.8],\n",
       "       [17. ],\n",
       "       [33.5],\n",
       "       [21. ],\n",
       "       [23. ],\n",
       "       [38.1],\n",
       "       [44. ],\n",
       "       [40.8],\n",
       "       [21. ],\n",
       "       [29. ],\n",
       "       [17.5],\n",
       "       [28. ],\n",
       "       [26. ],\n",
       "       [26. ],\n",
       "       [11. ],\n",
       "       [37.7],\n",
       "       [24.2],\n",
       "       [16. ],\n",
       "       [16. ],\n",
       "       [30. ],\n",
       "       [19. ],\n",
       "       [27. ],\n",
       "       [19. ],\n",
       "       [16. ],\n",
       "       [16. ],\n",
       "       [20.3],\n",
       "       [21. ],\n",
       "       [33.5],\n",
       "       [23. ],\n",
       "       [21.5],\n",
       "       [16. ],\n",
       "       [19. ],\n",
       "       [37. ],\n",
       "       [15. ],\n",
       "       [16. ],\n",
       "       [26. ],\n",
       "       [18. ],\n",
       "       [13. ],\n",
       "       [21. ],\n",
       "       [29. ],\n",
       "       [22. ],\n",
       "       [33. ],\n",
       "       [22. ],\n",
       "       [16. ],\n",
       "       [36. ],\n",
       "       [20. ],\n",
       "       [22. ],\n",
       "       [31.3],\n",
       "       [14.5],\n",
       "       [29.8],\n",
       "       [13. ],\n",
       "       [13. ],\n",
       "       [36. ],\n",
       "       [20.5],\n",
       "       [25. ],\n",
       "       [27. ],\n",
       "       [33. ],\n",
       "       [16.5],\n",
       "       [20.6],\n",
       "       [30. ],\n",
       "       [43.4],\n",
       "       [34.7],\n",
       "       [11. ],\n",
       "       [18. ],\n",
       "       [13. ],\n",
       "       [16. ],\n",
       "       [19. ],\n",
       "       [23. ],\n",
       "       [25.5],\n",
       "       [14. ],\n",
       "       [24.5],\n",
       "       [30. ],\n",
       "       [25.8],\n",
       "       [38. ],\n",
       "       [28.8],\n",
       "       [26.6],\n",
       "       [17. ],\n",
       "       [32. ],\n",
       "       [18.1],\n",
       "       [11. ],\n",
       "       [21. ],\n",
       "       [36. ],\n",
       "       [13. ],\n",
       "       [30. ],\n",
       "       [31. ],\n",
       "       [14. ],\n",
       "       [18. ],\n",
       "       [13. ],\n",
       "       [21.6],\n",
       "       [28. ],\n",
       "       [23.8],\n",
       "       [14. ],\n",
       "       [27. ],\n",
       "       [20.2],\n",
       "       [26. ],\n",
       "       [39.4],\n",
       "       [19.9],\n",
       "       [19. ],\n",
       "       [14. ],\n",
       "       [23.6],\n",
       "       [13. ],\n",
       "       [38. ],\n",
       "       [30.5],\n",
       "       [18.5],\n",
       "       [17. ],\n",
       "       [12. ],\n",
       "       [16. ],\n",
       "       [28. ],\n",
       "       [15.5],\n",
       "       [32. ],\n",
       "       [24. ],\n",
       "       [25.1],\n",
       "       [16. ],\n",
       "       [13. ],\n",
       "       [24. ],\n",
       "       [22. ],\n",
       "       [24. ],\n",
       "       [15. ],\n",
       "       [19. ],\n",
       "       [18. ],\n",
       "       [27.2],\n",
       "       [14. ],\n",
       "       [21. ],\n",
       "       [44.3],\n",
       "       [28. ],\n",
       "       [31.5],\n",
       "       [19.2],\n",
       "       [14. ],\n",
       "       [30.5],\n",
       "       [29.8],\n",
       "       [36.1],\n",
       "       [26.8],\n",
       "       [26. ],\n",
       "       [20.5],\n",
       "       [32.1],\n",
       "       [16. ],\n",
       "       [17. ],\n",
       "       [20. ],\n",
       "       [22. ],\n",
       "       [25. ],\n",
       "       [23.9],\n",
       "       [31. ],\n",
       "       [39. ],\n",
       "       [28. ],\n",
       "       [34.5],\n",
       "       [22. ],\n",
       "       [20.6],\n",
       "       [14. ],\n",
       "       [25.4],\n",
       "       [14. ],\n",
       "       [30. ],\n",
       "       [19. ],\n",
       "       [36. ],\n",
       "       [25. ],\n",
       "       [14. ],\n",
       "       [21.1],\n",
       "       [28. ],\n",
       "       [19. ],\n",
       "       [19.1],\n",
       "       [24.3],\n",
       "       [44.6],\n",
       "       [20. ],\n",
       "       [17. ],\n",
       "       [13. ],\n",
       "       [34.2],\n",
       "       [26. ],\n",
       "       [17.5],\n",
       "       [26. ],\n",
       "       [13. ],\n",
       "       [18. ],\n",
       "       [18.5],\n",
       "       [36. ],\n",
       "       [16. ],\n",
       "       [38. ],\n",
       "       [23. ],\n",
       "       [20.5],\n",
       "       [13. ],\n",
       "       [28. ],\n",
       "       [12. ],\n",
       "       [34.1],\n",
       "       [20. ],\n",
       "       [12. ],\n",
       "       [28.4],\n",
       "       [18. ],\n",
       "       [20. ],\n",
       "       [29.5],\n",
       "       [19. ],\n",
       "       [26. ],\n",
       "       [26. ]])"
      ]
     },
     "execution_count": 8,
     "metadata": {},
     "output_type": "execute_result"
    }
   ],
   "source": [
    "y_train"
   ]
  },
  {
   "cell_type": "code",
   "execution_count": 9,
   "metadata": {},
   "outputs": [],
   "source": [
    "from sklearn.preprocessing import MinMaxScaler\n",
    "scaler_X = MinMaxScaler()\n",
    "scaler_y = MinMaxScaler()\n",
    "X_train = scaler_X.fit_transform(X_train)\n",
    "y_train  = scaler_y.fit_transform(y_train)"
   ]
  },
  {
   "cell_type": "code",
   "execution_count": 10,
   "metadata": {},
   "outputs": [
    {
     "data": {
      "text/plain": [
       "array([[1.        , 0.58152174, 0.71335413, ..., 0.        , 0.        ,\n",
       "        0.31513338],\n",
       "       [0.2       , 0.1576087 , 0.26339665, ..., 0.        , 0.        ,\n",
       "        0.17090812],\n",
       "       [1.        , 0.51086957, 0.76013609, ..., 0.        , 0.        ,\n",
       "        0.23010808],\n",
       "       ...,\n",
       "       [0.6       , 0.29347826, 0.57187411, ..., 0.        , 0.        ,\n",
       "        0.13354424],\n",
       "       [0.2       , 0.1576087 , 0.17947264, ..., 0.        , 0.        ,\n",
       "        0.24518005],\n",
       "       [0.2       , 0.17391304, 0.1947831 , ..., 0.        , 0.        ,\n",
       "        0.25511919]])"
      ]
     },
     "execution_count": 10,
     "metadata": {},
     "output_type": "execute_result"
    }
   ],
   "source": [
    "X_train"
   ]
  },
  {
   "cell_type": "code",
   "execution_count": 11,
   "metadata": {},
   "outputs": [
    {
     "data": {
      "text/plain": [
       "39"
      ]
     },
     "execution_count": 11,
     "metadata": {},
     "output_type": "execute_result"
    }
   ],
   "source": [
    "X_train.shape[1]"
   ]
  },
  {
   "cell_type": "code",
   "execution_count": 12,
   "metadata": {},
   "outputs": [],
   "source": [
    "def build_model():\n",
    "    model = keras.Sequential([\n",
    "        layers.Dense(64, activation='relu',input_shape =[39]),\n",
    "        layers.Dense(64, activation = 'relu'),\n",
    "        layers.Dense(1)\n",
    "    ])\n",
    "    \n",
    "    optimizer = tf.keras.optimizers.RMSprop(0.001)\n",
    "    \n",
    "    model.compile(loss='mse',\n",
    "                optimizer=optimizer,\n",
    "                metrics=['mae', 'mse'])\n",
    "    return model"
   ]
  },
  {
   "cell_type": "code",
   "execution_count": 13,
   "metadata": {},
   "outputs": [],
   "source": [
    "model = build_model()"
   ]
  },
  {
   "cell_type": "code",
   "execution_count": 14,
   "metadata": {},
   "outputs": [
    {
     "name": "stdout",
     "output_type": "stream",
     "text": [
      "Model: \"sequential\"\n",
      "_________________________________________________________________\n",
      "Layer (type)                 Output Shape              Param #   \n",
      "=================================================================\n",
      "dense (Dense)                (None, 64)                2560      \n",
      "_________________________________________________________________\n",
      "dense_1 (Dense)              (None, 64)                4160      \n",
      "_________________________________________________________________\n",
      "dense_2 (Dense)              (None, 1)                 65        \n",
      "=================================================================\n",
      "Total params: 6,785\n",
      "Trainable params: 6,785\n",
      "Non-trainable params: 0\n",
      "_________________________________________________________________\n"
     ]
    }
   ],
   "source": [
    "model.summary()"
   ]
  },
  {
   "cell_type": "code",
   "execution_count": 15,
   "metadata": {},
   "outputs": [
    {
     "data": {
      "text/plain": [
       "array([[ 0.07121392],\n",
       "       [-0.02972823],\n",
       "       [ 0.06441306],\n",
       "       [ 0.04895391],\n",
       "       [-0.01459663],\n",
       "       [ 0.1803725 ],\n",
       "       [ 0.05714274],\n",
       "       [-0.06459863],\n",
       "       [-0.01029874],\n",
       "       [-0.02387566]], dtype=float32)"
      ]
     },
     "execution_count": 15,
     "metadata": {},
     "output_type": "execute_result"
    }
   ],
   "source": [
    "example_batch = X_train[:10]\n",
    "example_result = model.predict(np.asarray(example_batch))\n",
    "example_result"
   ]
  },
  {
   "cell_type": "code",
   "execution_count": 17,
   "metadata": {},
   "outputs": [
    {
     "name": "stdout",
     "output_type": "stream",
     "text": [
      "\n",
      "Epoch: 0, loss:0.0005,  mae:0.0163,  mse:0.0005,  val_loss:0.0052,  val_mae:0.0545,  val_mse:0.0052,  \n",
      "....................................................................................................\n",
      "Epoch: 100, loss:0.0003,  mae:0.0099,  mse:0.0003,  val_loss:0.0063,  val_mae:0.0602,  val_mse:0.0063,  \n",
      "....................................................................................................\n",
      "Epoch: 200, loss:0.0004,  mae:0.0140,  mse:0.0004,  val_loss:0.0052,  val_mae:0.0535,  val_mse:0.0052,  \n",
      "....................................................................................................\n",
      "Epoch: 300, loss:0.0003,  mae:0.0116,  mse:0.0003,  val_loss:0.0055,  val_mae:0.0565,  val_mse:0.0055,  \n",
      "....................................................................................................\n",
      "Epoch: 400, loss:0.0001,  mae:0.0073,  mse:0.0001,  val_loss:0.0055,  val_mae:0.0583,  val_mse:0.0055,  \n",
      "....................................................................................................\n",
      "Epoch: 500, loss:0.0002,  mae:0.0091,  mse:0.0002,  val_loss:0.0049,  val_mae:0.0534,  val_mse:0.0049,  \n",
      "....................................................................................................\n",
      "Epoch: 600, loss:0.0002,  mae:0.0104,  mse:0.0002,  val_loss:0.0055,  val_mae:0.0550,  val_mse:0.0055,  \n",
      "....................................................................................................\n",
      "Epoch: 700, loss:0.0002,  mae:0.0093,  mse:0.0002,  val_loss:0.0058,  val_mae:0.0571,  val_mse:0.0058,  \n",
      "....................................................................................................\n",
      "Epoch: 800, loss:0.0002,  mae:0.0092,  mse:0.0002,  val_loss:0.0054,  val_mae:0.0551,  val_mse:0.0054,  \n",
      "....................................................................................................\n",
      "Epoch: 900, loss:0.0001,  mae:0.0078,  mse:0.0001,  val_loss:0.0049,  val_mae:0.0543,  val_mse:0.0049,  \n",
      "...................................................................................................."
     ]
    }
   ],
   "source": [
    "EPOCHS = 1000\n",
    "\n",
    "history = model.fit(\n",
    "  X_train,y_train,\n",
    "  epochs=EPOCHS, validation_split = 0.2, verbose=0,\n",
    "  callbacks=[tfdocs.modeling.EpochDots()])"
   ]
  },
  {
   "cell_type": "code",
   "execution_count": 21,
   "metadata": {},
   "outputs": [
    {
     "data": {
      "text/html": [
       "<div>\n",
       "<style scoped>\n",
       "    .dataframe tbody tr th:only-of-type {\n",
       "        vertical-align: middle;\n",
       "    }\n",
       "\n",
       "    .dataframe tbody tr th {\n",
       "        vertical-align: top;\n",
       "    }\n",
       "\n",
       "    .dataframe thead th {\n",
       "        text-align: right;\n",
       "    }\n",
       "</style>\n",
       "<table border=\"1\" class=\"dataframe\">\n",
       "  <thead>\n",
       "    <tr style=\"text-align: right;\">\n",
       "      <th></th>\n",
       "      <th>loss</th>\n",
       "      <th>mae</th>\n",
       "      <th>mse</th>\n",
       "      <th>val_loss</th>\n",
       "      <th>val_mae</th>\n",
       "      <th>val_mse</th>\n",
       "      <th>epoch</th>\n",
       "    </tr>\n",
       "  </thead>\n",
       "  <tbody>\n",
       "    <tr>\n",
       "      <th>995</th>\n",
       "      <td>0.000101</td>\n",
       "      <td>0.006414</td>\n",
       "      <td>0.000101</td>\n",
       "      <td>0.004844</td>\n",
       "      <td>0.052044</td>\n",
       "      <td>0.004844</td>\n",
       "      <td>995</td>\n",
       "    </tr>\n",
       "    <tr>\n",
       "      <th>996</th>\n",
       "      <td>0.000113</td>\n",
       "      <td>0.006977</td>\n",
       "      <td>0.000113</td>\n",
       "      <td>0.004596</td>\n",
       "      <td>0.051025</td>\n",
       "      <td>0.004596</td>\n",
       "      <td>996</td>\n",
       "    </tr>\n",
       "    <tr>\n",
       "      <th>997</th>\n",
       "      <td>0.000207</td>\n",
       "      <td>0.010182</td>\n",
       "      <td>0.000207</td>\n",
       "      <td>0.005102</td>\n",
       "      <td>0.054586</td>\n",
       "      <td>0.005102</td>\n",
       "      <td>997</td>\n",
       "    </tr>\n",
       "    <tr>\n",
       "      <th>998</th>\n",
       "      <td>0.000170</td>\n",
       "      <td>0.009001</td>\n",
       "      <td>0.000170</td>\n",
       "      <td>0.004721</td>\n",
       "      <td>0.051764</td>\n",
       "      <td>0.004721</td>\n",
       "      <td>998</td>\n",
       "    </tr>\n",
       "    <tr>\n",
       "      <th>999</th>\n",
       "      <td>0.000221</td>\n",
       "      <td>0.009354</td>\n",
       "      <td>0.000221</td>\n",
       "      <td>0.004749</td>\n",
       "      <td>0.052331</td>\n",
       "      <td>0.004749</td>\n",
       "      <td>999</td>\n",
       "    </tr>\n",
       "  </tbody>\n",
       "</table>\n",
       "</div>"
      ],
      "text/plain": [
       "         loss       mae       mse  val_loss   val_mae   val_mse  epoch\n",
       "995  0.000101  0.006414  0.000101  0.004844  0.052044  0.004844    995\n",
       "996  0.000113  0.006977  0.000113  0.004596  0.051025  0.004596    996\n",
       "997  0.000207  0.010182  0.000207  0.005102  0.054586  0.005102    997\n",
       "998  0.000170  0.009001  0.000170  0.004721  0.051764  0.004721    998\n",
       "999  0.000221  0.009354  0.000221  0.004749  0.052331  0.004749    999"
      ]
     },
     "execution_count": 21,
     "metadata": {},
     "output_type": "execute_result"
    }
   ],
   "source": [
    "hist = pd.DataFrame(history.history)\n",
    "hist['epoch'] = history.epoch\n",
    "hist.tail()\n"
   ]
  },
  {
   "cell_type": "code",
   "execution_count": null,
   "metadata": {},
   "outputs": [],
   "source": []
  },
  {
   "cell_type": "code",
   "execution_count": 23,
   "metadata": {},
   "outputs": [],
   "source": [
    "plotter = tfdocs.plots.HistoryPlotter(smoothing_std=2)"
   ]
  },
  {
   "cell_type": "code",
   "execution_count": 54,
   "metadata": {},
   "outputs": [
    {
     "data": {
      "text/plain": [
       "Text(0, 0.5, 'MAE [MPG]')"
      ]
     },
     "execution_count": 54,
     "metadata": {},
     "output_type": "execute_result"
    },
    {
     "data": {
      "image/png": "[encoded data removed]",
      "text/plain": [
       "<Figure size 432x288 with 1 Axes>"
      ]
     },
     "metadata": {
      "needs_background": "light"
     },
     "output_type": "display_data"
    }
   ],
   "source": [
    "plotter.plot({'Basic': history}, metric = \"mae\")\n",
    "plt.ylim([0, 0.1])\n",
    "plt.ylabel('MAE [MPG]')"
   ]
  },
  {
   "cell_type": "code",
   "execution_count": 25,
   "metadata": {},
   "outputs": [
    {
     "data": {
      "text/plain": [
       "Text(0, 0.5, 'MSE [MPG^2]')"
      ]
     },
     "execution_count": 25,
     "metadata": {},
     "output_type": "execute_result"
    },
    {
     "data": {
      "image/png": "[encoded data removed]",
      "text/plain": [
       "<Figure size 432x288 with 1 Axes>"
      ]
     },
     "metadata": {
      "needs_background": "light"
     },
     "output_type": "display_data"
    }
   ],
   "source": [
    "plotter.plot({'Basic': history}, metric = \"mse\")\n",
    "plt.ylim([0, 20])\n",
    "plt.ylabel('MSE [MPG^2]')"
   ]
  },
  {
   "cell_type": "code",
   "execution_count": null,
   "metadata": {},
   "outputs": [],
   "source": []
  },
  {
   "cell_type": "code",
   "execution_count": 44,
   "metadata": {},
   "outputs": [],
   "source": [
    "X_test = test.iloc[:, 1:].values\n",
    "y_test = test.iloc[:, 0].values"
   ]
  },
  {
   "cell_type": "code",
   "execution_count": 20,
   "metadata": {},
   "outputs": [],
   "source": [
    "X_test = scaler_X.transform(X_test)\n",
    "y_test = scaler_y.transform(y_test)"
   ]
  },
  {
   "cell_type": "code",
   "execution_count": 38,
   "metadata": {},
   "outputs": [],
   "source": [
    "test_predictions = model.predict(X_test)"
   ]
  },
  {
   "cell_type": "code",
   "execution_count": 39,
   "metadata": {},
   "outputs": [],
   "source": [
    "test_predictions = scaler_y.inverse_transform(test_predictions)"
   ]
  },
  {
   "cell_type": "code",
   "execution_count": 40,
   "metadata": {},
   "outputs": [],
   "source": [
    "test_predictions = test_predictions.flatten()"
   ]
  },
  {
   "cell_type": "code",
   "execution_count": 41,
   "metadata": {},
   "outputs": [
    {
     "data": {
      "text/plain": [
       "array([12.386303 , 14.110046 , 13.561791 , 24.941872 , 19.052944 ,\n",
       "       12.615643 , 13.246279 , 12.15886  , 15.010701 , 20.9889   ,\n",
       "       22.872707 , 15.3003235, 15.632257 , 22.973085 , 22.858892 ,\n",
       "       14.707464 , 14.812741 , 12.571374 , 17.91172  , 13.423458 ,\n",
       "       14.223309 , 30.93275  , 21.461948 , 14.25572  , 18.107475 ,\n",
       "       17.815666 , 22.797749 , 29.65127  , 30.391628 , 16.846134 ,\n",
       "       20.268187 , 23.508825 , 18.626083 , 20.36801  , 22.255169 ,\n",
       "       26.39924  , 27.65177  , 18.42674  , 16.120441 , 24.862566 ,\n",
       "       30.437672 , 20.971916 , 29.152954 , 20.209074 , 31.251078 ,\n",
       "       15.037365 , 28.140451 , 16.810974 , 20.720306 , 19.65866  ,\n",
       "       17.306152 , 26.857103 , 27.458033 , 23.34293  , 18.037207 ,\n",
       "       18.318844 , 16.741196 , 19.238739 , 16.827229 , 22.215342 ,\n",
       "       32.664745 , 22.419771 , 14.195612 , 31.326998 , 34.021103 ,\n",
       "       28.587727 , 37.637905 , 39.394466 , 34.067383 , 34.28173  ,\n",
       "       35.17126  , 27.500002 , 26.767841 , 23.803982 , 21.314228 ,\n",
       "       29.844954 , 31.291645 , 34.496758 , 37.740448 , 26.594162 ],\n",
       "      dtype=float32)"
      ]
     },
     "execution_count": 41,
     "metadata": {},
     "output_type": "execute_result"
    }
   ],
   "source": [
    "test_predictions"
   ]
  },
  {
   "cell_type": "code",
   "execution_count": 43,
   "metadata": {},
   "outputs": [
    {
     "data": {
      "text/plain": [
       "array([[ 0.13661202],\n",
       "       [ 0.        ],\n",
       "       [-0.0273224 ],\n",
       "       [ 0.40983607],\n",
       "       [ 0.40983607],\n",
       "       [ 0.10928962],\n",
       "       [ 0.10928962],\n",
       "       [ 0.05464481],\n",
       "       [ 0.24590164],\n",
       "       [ 0.57377049],\n",
       "       [ 0.38251366],\n",
       "       [ 0.08196721],\n",
       "       [ 0.13661202],\n",
       "       [ 0.35519126],\n",
       "       [ 0.46448087],\n",
       "       [ 0.08196721],\n",
       "       [ 0.10928962],\n",
       "       [ 0.08196721],\n",
       "       [ 0.21857923],\n",
       "       [ 0.08196721],\n",
       "       [ 0.13661202],\n",
       "       [ 0.51912568],\n",
       "       [ 0.27322404],\n",
       "       [ 0.13661202],\n",
       "       [ 0.24590164],\n",
       "       [ 0.13661202],\n",
       "       [ 0.6010929 ],\n",
       "       [ 0.38251366],\n",
       "       [ 0.57377049],\n",
       "       [ 0.21857923],\n",
       "       [ 0.27322404],\n",
       "       [ 0.40983607],\n",
       "       [ 0.21857923],\n",
       "       [ 0.35519126],\n",
       "       [ 0.40983607],\n",
       "       [ 0.40983607],\n",
       "       [ 0.43715847],\n",
       "       [ 0.32786885],\n",
       "       [ 0.38251366],\n",
       "       [ 0.51912568],\n",
       "       [ 0.51912568],\n",
       "       [ 0.20491803],\n",
       "       [ 0.53278689],\n",
       "       [ 0.17759563],\n",
       "       [ 0.31420765],\n",
       "       [ 0.31420765],\n",
       "       [ 0.90437158],\n",
       "       [ 0.27868852],\n",
       "       [ 0.2568306 ],\n",
       "       [ 0.25136612],\n",
       "       [ 0.20491803],\n",
       "       [ 0.47814208],\n",
       "       [ 0.37978142],\n",
       "       [ 0.16939891],\n",
       "       [ 0.19125683],\n",
       "       [ 0.22404372],\n",
       "       [ 0.15027322],\n",
       "       [ 0.25136612],\n",
       "       [ 0.23224044],\n",
       "       [ 0.44808743],\n",
       "       [ 0.60655738],\n",
       "       [ 0.48907104],\n",
       "       [ 0.62021858],\n",
       "       [ 0.68306011],\n",
       "       [ 0.61202186],\n",
       "       [ 0.46994536],\n",
       "       [ 0.79508197],\n",
       "       [ 0.68579235],\n",
       "       [ 0.66666667],\n",
       "       [ 0.6284153 ],\n",
       "       [ 0.64754098],\n",
       "       [ 0.49453552],\n",
       "       [ 0.56557377],\n",
       "       [ 0.45355191],\n",
       "       [ 0.20765027],\n",
       "       [ 0.46448087],\n",
       "       [ 0.57377049],\n",
       "       [ 0.6557377 ],\n",
       "       [ 0.6010929 ],\n",
       "       [ 0.49180328]])"
      ]
     },
     "execution_count": 43,
     "metadata": {},
     "output_type": "execute_result"
    }
   ],
   "source": [
    "y_test"
   ]
  },
  {
   "cell_type": "code",
   "execution_count": 45,
   "metadata": {},
   "outputs": [
    {
     "data": {
      "image/png": "[encoded data removed]",
      "text/plain": [
       "<Figure size 432x288 with 1 Axes>"
      ]
     },
     "metadata": {
      "needs_background": "light"
     },
     "output_type": "display_data"
    }
   ],
   "source": [
    "\n",
    "a = plt.axes(aspect='equal')\n",
    "plt.scatter(y_test, test_predictions)\n",
    "plt.xlabel('True Values [MPG]')\n",
    "plt.ylabel('Predictions [MPG]')\n",
    "lims = [0, 50]\n",
    "plt.xlim(lims)\n",
    "plt.ylim(lims)\n",
    "_ = plt.plot(lims, lims)"
   ]
  },
  {
   "cell_type": "code",
   "execution_count": 46,
   "metadata": {},
   "outputs": [
    {
     "data": {
      "image/png": "[encoded data removed]",
      "text/plain": [
       "<Figure size 432x288 with 1 Axes>"
      ]
     },
     "metadata": {
      "needs_background": "light"
     },
     "output_type": "display_data"
    }
   ],
   "source": [
    "error = test_predictions - y_test\n",
    "plt.hist(error, bins = 25)\n",
    "plt.xlabel(\"Prediction Error [MPG]\")\n",
    "_ = plt.ylabel(\"Count\")"
   ]
  }
 ],
 "metadata": {
  "kernelspec": {
   "display_name": "Python [conda env:tensorflow]",
   "language": "python",
   "name": "conda-env-tensorflow-py"
  },
  "language_info": {
   "codemirror_mode": {
    "name": "ipython",
    "version": 3
   },
   "file_extension": ".py",
   "mimetype": "text/x-python",
   "name": "python",
   "nbconvert_exporter": "python",
   "pygments_lexer": "ipython3",
   "version": "3.7.8"
  }
 },
 "nbformat": 4,
 "nbformat_minor": 4
}
